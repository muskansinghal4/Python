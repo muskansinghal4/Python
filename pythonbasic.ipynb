{
  "nbformat": 4,
  "nbformat_minor": 0,
  "metadata": {
    "colab": {
      "provenance": [],
      "collapsed_sections": []
    },
    "kernelspec": {
      "name": "python3",
      "display_name": "Python 3"
    },
    "language_info": {
      "name": "python"
    }
  },
  "cells": [
    {
      "cell_type": "code",
      "execution_count": null,
      "metadata": {
        "colab": {
          "base_uri": "https://localhost:8080/"
        },
        "id": "HVCFrO3h2rGt",
        "outputId": "c19595c2-2245-4490-8ad2-5a8003269e95"
      },
      "outputs": [
        {
          "output_type": "stream",
          "name": "stdout",
          "text": [
            "12\n",
            "13\n",
            "14\n",
            "jigglipuff\n",
            "found jiggglipuff\n",
            "24\n"
          ]
        }
      ],
      "source": [
        "pokelist=[12,13,14,\"jigglipuff\",'24']\n",
        "for poke in pokelist:\n",
        "  print(poke)\n",
        "  if poke==\"jigglipuff\":\n",
        "    print(\"found jiggglipuff\") \n",
        "  else:\n",
        "    continue"
      ]
    },
    {
      "cell_type": "markdown",
      "source": [],
      "metadata": {
        "id": "B1NLaWJy4rHy"
      }
    },
    {
      "cell_type": "code",
      "source": [
        "v1=\"pikachu\"\n",
        "v2=\"richu\"\n",
        "print(v1[0])\n",
        "print(v1[-1])\n",
        "print(v1[:3])\n",
        "print(v1[4:])\n",
        "print(v1[-1:-4:-1])\n",
        "print(v1[-1:-4])\n",
        "print(v1[::-1])\n",
        "for a in v1:\n",
        " print(a) "
      ],
      "metadata": {
        "colab": {
          "base_uri": "https://localhost:8080/"
        },
        "id": "2pmVCaPi4r18",
        "outputId": "860777f8-fa5c-48d1-d845-e1583e5e3236"
      },
      "execution_count": null,
      "outputs": [
        {
          "output_type": "stream",
          "name": "stdout",
          "text": [
            "p\n",
            "u\n",
            "pik\n",
            "chu\n",
            "uhc\n",
            "\n",
            "uhcakip\n",
            "p\n",
            "i\n",
            "k\n",
            "a\n",
            "c\n",
            "h\n",
            "u\n"
          ]
        }
      ]
    },
    {
      "cell_type": "code",
      "source": [
        "l=[\"bulbasaue_21\",\"coocoo_54\",\"squirtle_42\",\"charmandar_09\",\"groudon_69\",\"seuiper_68\",\"paras_00\",\"greninja_07\",\"gengar_78\",\"mew_11\",\"rocky_12\",\"onyx_97\",\"raichu-22\",\"koko_23\",\"palki_27\"]\n",
        "for a in l:\n",
        "  print(a[:-3])"
      ],
      "metadata": {
        "colab": {
          "base_uri": "https://localhost:8080/"
        },
        "id": "cJiiWLYjOhOm",
        "outputId": "cb2f7210-a608-4134-d221-94b26ee11024"
      },
      "execution_count": 13,
      "outputs": [
        {
          "output_type": "stream",
          "name": "stdout",
          "text": [
            "Bulbasaur\n",
            "coocoo\n",
            "squirtle\n",
            "charmandar\n",
            "groudon\n",
            "seuiper\n",
            "paras\n",
            "greninja\n",
            "gengar\n",
            "mew\n",
            "rocky\n",
            "onyx\n",
            "raichu\n",
            "koko\n",
            "palki\n"
          ]
        }
      ]
    },
    {
      "cell_type": "code",
      "source": [],
      "metadata": {
        "id": "tPd8-fIUTguG"
      },
      "execution_count": null,
      "outputs": []
    },
    {
      "cell_type": "code",
      "source": [
        "l=[\"Bulbasaur_21\",\"coocoo_54\",\"squirtle_42\",\"charmandar_09\",\"groudon_69\",\"seuiper_68\",\"paras_00\",\"greninja_07\",\"gengar_78\",\"mew_11\",\"rocky_12\",\"onyx_97\",\"raichu-22\",\"koko_23\",\"palki_27\"]\n",
        "for l in l[::-1]:\n",
        "  print(l[-4::-1])"
      ],
      "metadata": {
        "colab": {
          "base_uri": "https://localhost:8080/"
        },
        "outputId": "63a385fb-5f0d-41d8-fcd4-921b615e0d75",
        "id": "AtgLtVXoThcJ"
      },
      "execution_count": 14,
      "outputs": [
        {
          "output_type": "stream",
          "name": "stdout",
          "text": [
            "iklap\n",
            "okok\n",
            "uhciar\n",
            "xyno\n",
            "ykcor\n",
            "wem\n",
            "ragneg\n",
            "ajninerg\n",
            "sarap\n",
            "repiues\n",
            "noduorg\n",
            "radnamrahc\n",
            "eltriuqs\n",
            "oocooc\n",
            "ruasabluB\n"
          ]
        }
      ]
    },
    {
      "cell_type": "code",
      "source": [
        "l=[\"bulbasaue_21\",\"coocoo_54\",\"squirtle_142\",\"charmandar_09\",\"groudon_69\",\"seuiper_68\",\"paras_00\",\"greninja_07\",\"gengar_78\",\"mew_11\",\"rocky_12\",\"onyx_97\",\"raichu-22\",\"koko_23\",\"palki_27\"]\n",
        "for i in l:\n",
        "  k=i.find('_')\n",
        "  print(i[:k])"
      ],
      "metadata": {
        "colab": {
          "base_uri": "https://localhost:8080/"
        },
        "id": "p_tf23RHQzDK",
        "outputId": "8eba9f08-819c-4d0f-8c68-00f9636f4332"
      },
      "execution_count": 18,
      "outputs": [
        {
          "output_type": "stream",
          "name": "stdout",
          "text": [
            "bulbasaue\n",
            "coocoo\n",
            "squirtle\n",
            "charmandar\n",
            "groudon\n",
            "seuiper\n",
            "paras\n",
            "greninja\n",
            "gengar\n",
            "mew\n",
            "rocky\n",
            "onyx\n",
            "raichu-2\n",
            "koko\n",
            "palki\n"
          ]
        }
      ]
    },
    {
      "cell_type": "code",
      "source": [
        "l=[\"bulbasaue_21\",\"coocoo_54\",\"squirtle_142\",\"charmandar_09\",\"groudon_69\",\"seuiper_68\",\"paras_00\",\"greninja_07\",\"gengar_78\",\"mew_11\",\"rocky_12\",\"onyx_97\",\"raichu-22\",\"koko_23\",\"palki_27\"]\n",
        "for i in l[::2]:\n",
        "  k=i.find('_')\n",
        "  print(i[:k])"
      ],
      "metadata": {
        "colab": {
          "base_uri": "https://localhost:8080/"
        },
        "id": "MvhoVgCoY0Iu",
        "outputId": "b674e487-ecff-497e-8185-e7d0942ea721"
      },
      "execution_count": 7,
      "outputs": [
        {
          "output_type": "stream",
          "name": "stdout",
          "text": [
            "bulbasaue\n",
            "squirtle\n",
            "groudon\n",
            "paras\n",
            "gengar\n",
            "rocky\n",
            "raichu-2\n",
            "palki\n"
          ]
        }
      ]
    },
    {
      "cell_type": "code",
      "source": [
        "l=[\"bulbasaue_21\",\"coocoo_54\",\"squirtle_142\",\"charmandar_09\",\"groudon_69\",\"seuiper_68\",\"paras_00\",\"greninja_07\",\"gengar_78\",\"mew_11\",\"rocky_12\",\"onyx_97\",\"raichu-22\",\"koko_23\",\"palkia_43\"]\n",
        "for i in l:\n",
        "  k=i.startswith(\"g\")\n",
        "  if k==True:\n",
        "    l1=i.find('_')\n",
        "    print(i[:l1])"
      ],
      "metadata": {
        "colab": {
          "base_uri": "https://localhost:8080/"
        },
        "id": "sbuiyLg9a6it",
        "outputId": "b844b7d2-1864-4ae5-b312-182addfb4ae7"
      },
      "execution_count": 27,
      "outputs": [
        {
          "output_type": "stream",
          "name": "stdout",
          "text": [
            "groudon\n",
            "greninja\n",
            "gengar\n"
          ]
        }
      ]
    },
    {
      "cell_type": "code",
      "source": [
        "l=[\"bulbasaue_21\",\"coocoo_54\",\"squirtle_142\",\"charmandar_09\",\"groudon_69\",\"seuiper_68\",\"paras_00\",\"greninja_07\",\"gengar_78\",\"mew_11\",\"rocky_12\",\"onyx_97\",\"raichu-22\",\"koko_23\",\"palkia_43\"]\n",
        "l2=[]\n",
        "for i in l[::2]:\n",
        "  l2.append(i)\n",
        "  print(l2)\n"
      ],
      "metadata": {
        "colab": {
          "base_uri": "https://localhost:8080/"
        },
        "id": "12c2Ck5ciL0T",
        "outputId": "20a9fae0-3645-460d-c071-2781ef2f2b26"
      },
      "execution_count": 3,
      "outputs": [
        {
          "output_type": "stream",
          "name": "stdout",
          "text": [
            "['bulbasaue_21']\n",
            "['bulbasaue_21', 'squirtle_142']\n",
            "['bulbasaue_21', 'squirtle_142', 'groudon_69']\n",
            "['bulbasaue_21', 'squirtle_142', 'groudon_69', 'paras_00']\n",
            "['bulbasaue_21', 'squirtle_142', 'groudon_69', 'paras_00', 'gengar_78']\n",
            "['bulbasaue_21', 'squirtle_142', 'groudon_69', 'paras_00', 'gengar_78', 'rocky_12']\n",
            "['bulbasaue_21', 'squirtle_142', 'groudon_69', 'paras_00', 'gengar_78', 'rocky_12', 'raichu-22']\n",
            "['bulbasaue_21', 'squirtle_142', 'groudon_69', 'paras_00', 'gengar_78', 'rocky_12', 'raichu-22', 'palkia_43']\n"
          ]
        }
      ]
    }
  ]
}